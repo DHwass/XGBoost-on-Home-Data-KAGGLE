{
 "cells": [
  {
   "cell_type": "markdown",
   "id": "2c112857",
   "metadata": {
    "papermill": {
     "duration": 0.007623,
     "end_time": "2023-03-18T23:53:32.366929",
     "exception": false,
     "start_time": "2023-03-18T23:53:32.359306",
     "status": "completed"
    },
    "tags": []
   },
   "source": [
    "# Hypothesis testing on Boston home data\n",
    "#### Project from the IBM course \"Statistics for Data Science with Python\""
   ]
  },
  {
   "cell_type": "markdown",
   "id": "d2c3261a",
   "metadata": {
    "papermill": {
     "duration": 0.00628,
     "end_time": "2023-03-18T23:53:32.379946",
     "exception": false,
     "start_time": "2023-03-18T23:53:32.373666",
     "status": "completed"
    },
    "tags": []
   },
   "source": [
    "### Table of Contents\n",
    "\n",
    "- 1 [Project case scenario](#1)\n",
    "- 2 [Dataset details](#2)\n",
    "- 3 [Hypothesis testing and vizualisations](#3)\n",
    "    - 3.1 [T-test (Q1)](#3.1)\n",
    "    - 3.2 [ANOVA (Q2)](#3.2)\n",
    "    - 3.3 [Correlation test (Q3)](#3.3)\n",
    "- 4 [Regression in place of correlation test (Q4)](#4)"
   ]
  },
  {
   "cell_type": "markdown",
   "id": "b3d5824c",
   "metadata": {
    "papermill": {
     "duration": 0.006729,
     "end_time": "2023-03-18T23:53:32.393163",
     "exception": false,
     "start_time": "2023-03-18T23:53:32.386434",
     "status": "completed"
    },
    "tags": []
   },
   "source": [
    "# **1. Project case scenario** <a class=\"anchor\" id=\"1\"></a>\n",
    "**Project Scenario:** You are a Data Scientist with a housing agency in Boston MA, you have been given access to a previous dataset on housing prices derived from the U.S. Census Service to present insights to higher management. Based on your experience in Statistics, what information can you provide them to help with making an informed decision? Upper management will like to get some insight into the following.\n",
    "\n",
    "- [Q1:](#3.1) Is there a significant difference in the median value of houses bounded by the Charles river or not? \n",
    "\n",
    "- [Q2:](#3.2) Is there a difference in median values of houses of each proportion of owner-occupied units built before 1940?\n",
    "\n",
    "- [Q3:](#3.3) Can we conclude that there is no relationship between Nitric oxide concentrations and the proportion of non-retail business acres per town?\n",
    "\n",
    "- [Q4:](#4) What is the impact of an additional weighted distance to the five Boston employment centres on the median value of owner-occupied homes?\n"
   ]
  },
  {
   "cell_type": "markdown",
   "id": "ed5da1d9",
   "metadata": {
    "papermill": {
     "duration": 0.006236,
     "end_time": "2023-03-18T23:53:32.406080",
     "exception": false,
     "start_time": "2023-03-18T23:53:32.399844",
     "status": "completed"
    },
    "tags": []
   },
   "source": [
    "# **2. Dataset details** <a class=\"anchor\" id=\"2\"></a>\n",
    "The following describes the dataset variables:\n",
    "\n",
    "·      **CRIM** - per capita crime rate by town\n",
    "\n",
    "·      **ZN** - proportion of residential land zoned for lots over 25,000 sq.ft.\n",
    "\n",
    "·      **INDUS** - proportion of non-retail business acres per town.\n",
    "\n",
    "·      **CHAS** - Charles River dummy variable (1 if tract bounds river; 0 otherwise)\n",
    "\n",
    "·      **NOX** - nitric oxides concentration (parts per 10 million)\n",
    "\n",
    "·      **RM** - average number of rooms per dwelling\n",
    "\n",
    "·      **AGE** - proportion of owner-occupied units built prior to 1940\n",
    "\n",
    "·      **DIS** - weighted distances to five Boston employment centres\n",
    "\n",
    "·      **RAD** - index of accessibility to radial highways\n",
    "\n",
    "·      **TAX** - full-value property-tax rate per $10,000\n",
    "\n",
    "·      **PTRATIO** - pupil-teacher ratio by town\n",
    "\n",
    "·      **LSTAT** - % lower status of the population\n",
    "\n",
    "·      **MEDV** - Median value of owner-occupied homes in $1000's"
   ]
  },
  {
   "cell_type": "code",
   "execution_count": 1,
   "id": "ddda7b41",
   "metadata": {
    "execution": {
     "iopub.execute_input": "2023-03-18T23:53:32.422465Z",
     "iopub.status.busy": "2023-03-18T23:53:32.421404Z",
     "iopub.status.idle": "2023-03-18T23:53:33.503895Z",
     "shell.execute_reply": "2023-03-18T23:53:33.502614Z"
    },
    "papermill": {
     "duration": 1.094258,
     "end_time": "2023-03-18T23:53:33.506905",
     "exception": false,
     "start_time": "2023-03-18T23:53:32.412647",
     "status": "completed"
    },
    "tags": []
   },
   "outputs": [
    {
     "data": {
      "text/html": [
       "<div>\n",
       "<style scoped>\n",
       "    .dataframe tbody tr th:only-of-type {\n",
       "        vertical-align: middle;\n",
       "    }\n",
       "\n",
       "    .dataframe tbody tr th {\n",
       "        vertical-align: top;\n",
       "    }\n",
       "\n",
       "    .dataframe thead th {\n",
       "        text-align: right;\n",
       "    }\n",
       "</style>\n",
       "<table border=\"1\" class=\"dataframe\">\n",
       "  <thead>\n",
       "    <tr style=\"text-align: right;\">\n",
       "      <th></th>\n",
       "      <th>Unnamed: 0</th>\n",
       "      <th>CRIM</th>\n",
       "      <th>ZN</th>\n",
       "      <th>INDUS</th>\n",
       "      <th>CHAS</th>\n",
       "      <th>NOX</th>\n",
       "      <th>RM</th>\n",
       "      <th>AGE</th>\n",
       "      <th>DIS</th>\n",
       "      <th>RAD</th>\n",
       "      <th>TAX</th>\n",
       "      <th>PTRATIO</th>\n",
       "      <th>LSTAT</th>\n",
       "      <th>MEDV</th>\n",
       "    </tr>\n",
       "  </thead>\n",
       "  <tbody>\n",
       "    <tr>\n",
       "      <th>0</th>\n",
       "      <td>0</td>\n",
       "      <td>0.00632</td>\n",
       "      <td>18.0</td>\n",
       "      <td>2.31</td>\n",
       "      <td>0.0</td>\n",
       "      <td>0.538</td>\n",
       "      <td>6.575</td>\n",
       "      <td>65.2</td>\n",
       "      <td>4.0900</td>\n",
       "      <td>1.0</td>\n",
       "      <td>296.0</td>\n",
       "      <td>15.3</td>\n",
       "      <td>4.98</td>\n",
       "      <td>24.0</td>\n",
       "    </tr>\n",
       "    <tr>\n",
       "      <th>1</th>\n",
       "      <td>1</td>\n",
       "      <td>0.02731</td>\n",
       "      <td>0.0</td>\n",
       "      <td>7.07</td>\n",
       "      <td>0.0</td>\n",
       "      <td>0.469</td>\n",
       "      <td>6.421</td>\n",
       "      <td>78.9</td>\n",
       "      <td>4.9671</td>\n",
       "      <td>2.0</td>\n",
       "      <td>242.0</td>\n",
       "      <td>17.8</td>\n",
       "      <td>9.14</td>\n",
       "      <td>21.6</td>\n",
       "    </tr>\n",
       "    <tr>\n",
       "      <th>2</th>\n",
       "      <td>2</td>\n",
       "      <td>0.02729</td>\n",
       "      <td>0.0</td>\n",
       "      <td>7.07</td>\n",
       "      <td>0.0</td>\n",
       "      <td>0.469</td>\n",
       "      <td>7.185</td>\n",
       "      <td>61.1</td>\n",
       "      <td>4.9671</td>\n",
       "      <td>2.0</td>\n",
       "      <td>242.0</td>\n",
       "      <td>17.8</td>\n",
       "      <td>4.03</td>\n",
       "      <td>34.7</td>\n",
       "    </tr>\n",
       "    <tr>\n",
       "      <th>3</th>\n",
       "      <td>3</td>\n",
       "      <td>0.03237</td>\n",
       "      <td>0.0</td>\n",
       "      <td>2.18</td>\n",
       "      <td>0.0</td>\n",
       "      <td>0.458</td>\n",
       "      <td>6.998</td>\n",
       "      <td>45.8</td>\n",
       "      <td>6.0622</td>\n",
       "      <td>3.0</td>\n",
       "      <td>222.0</td>\n",
       "      <td>18.7</td>\n",
       "      <td>2.94</td>\n",
       "      <td>33.4</td>\n",
       "    </tr>\n",
       "    <tr>\n",
       "      <th>4</th>\n",
       "      <td>4</td>\n",
       "      <td>0.06905</td>\n",
       "      <td>0.0</td>\n",
       "      <td>2.18</td>\n",
       "      <td>0.0</td>\n",
       "      <td>0.458</td>\n",
       "      <td>7.147</td>\n",
       "      <td>54.2</td>\n",
       "      <td>6.0622</td>\n",
       "      <td>3.0</td>\n",
       "      <td>222.0</td>\n",
       "      <td>18.7</td>\n",
       "      <td>5.33</td>\n",
       "      <td>36.2</td>\n",
       "    </tr>\n",
       "  </tbody>\n",
       "</table>\n",
       "</div>"
      ],
      "text/plain": [
       "   Unnamed: 0     CRIM    ZN  INDUS  CHAS    NOX     RM   AGE     DIS  RAD  \\\n",
       "0           0  0.00632  18.0   2.31   0.0  0.538  6.575  65.2  4.0900  1.0   \n",
       "1           1  0.02731   0.0   7.07   0.0  0.469  6.421  78.9  4.9671  2.0   \n",
       "2           2  0.02729   0.0   7.07   0.0  0.469  7.185  61.1  4.9671  2.0   \n",
       "3           3  0.03237   0.0   2.18   0.0  0.458  6.998  45.8  6.0622  3.0   \n",
       "4           4  0.06905   0.0   2.18   0.0  0.458  7.147  54.2  6.0622  3.0   \n",
       "\n",
       "     TAX  PTRATIO  LSTAT  MEDV  \n",
       "0  296.0     15.3   4.98  24.0  \n",
       "1  242.0     17.8   9.14  21.6  \n",
       "2  242.0     17.8   4.03  34.7  \n",
       "3  222.0     18.7   2.94  33.4  \n",
       "4  222.0     18.7   5.33  36.2  "
      ]
     },
     "execution_count": 1,
     "metadata": {},
     "output_type": "execute_result"
    }
   ],
   "source": [
    "import pandas as pd\n",
    "boston_url = 'https://cf-courses-data.s3.us.cloud-object-storage.appdomain.cloud/IBMDeveloperSkillsNetwork-ST0151EN-SkillsNetwork/labs/boston_housing.csv'\n",
    "boston_df=pd.read_csv(boston_url)\n",
    "boston_df.head()"
   ]
  },
  {
   "cell_type": "markdown",
   "id": "b55b1393",
   "metadata": {
    "papermill": {
     "duration": 0.006514,
     "end_time": "2023-03-18T23:53:33.520257",
     "exception": false,
     "start_time": "2023-03-18T23:53:33.513743",
     "status": "completed"
    },
    "tags": []
   },
   "source": [
    "# **3. Hypothesis testing and vizualisations** <a class=\"anchor\" id=\"3\"></a>\n",
    "   When conducting statistical analysis, it is important to ensure the **validity** of the results obtained. In order to do this, it is crucial to confirm that the assumptions made during the analysis are not simply due to **chance**. This is where **hypothesis testing** comes in. By providing a formal framework for evaluating the evidence in support of a hypothesis, hypothesis testing allows you to test the **significance** of your results and make data-driven decisions based on evidence. This can help you to avoid making false conclusions based on chance variation or other factors that may distort your analysis.\n",
    "   \n",
    "In this case, we have set the significance level (**alpha value**) to **0.05**. After computing the p-value, we will compare it with the significance level to determine whether the observed difference is statistically significant. This decision rule will guide us in making an informed decision."
   ]
  },
  {
   "cell_type": "markdown",
   "id": "80906af3",
   "metadata": {
    "papermill": {
     "duration": 0.006424,
     "end_time": "2023-03-18T23:53:33.533434",
     "exception": false,
     "start_time": "2023-03-18T23:53:33.527010",
     "status": "completed"
    },
    "tags": []
   },
   "source": [
    "## **3.1.**  Is there a significant difference in the median value of houses bounded by the Charles river or not? <a class=\"anchor\" id=\"3.1\"></a>"
   ]
  },
  {
   "cell_type": "markdown",
   "id": "94cf53b0",
   "metadata": {
    "papermill": {
     "duration": 0.006447,
     "end_time": "2023-03-18T23:53:33.546664",
     "exception": false,
     "start_time": "2023-03-18T23:53:33.540217",
     "status": "completed"
    },
    "tags": []
   },
   "source": [
    "Before conducting the test, we are providing a **bar plot** for the CHAS variable."
   ]
  },
  {
   "cell_type": "code",
   "execution_count": 2,
   "id": "cc32d07e",
   "metadata": {
    "execution": {
     "iopub.execute_input": "2023-03-18T23:53:33.562574Z",
     "iopub.status.busy": "2023-03-18T23:53:33.562143Z",
     "iopub.status.idle": "2023-03-18T23:53:34.891296Z",
     "shell.execute_reply": "2023-03-18T23:53:34.889962Z"
    },
    "papermill": {
     "duration": 1.340494,
     "end_time": "2023-03-18T23:53:34.893808",
     "exception": false,
     "start_time": "2023-03-18T23:53:33.553314",
     "status": "completed"
    },
    "tags": []
   },
   "outputs": [
    {
     "data": {
      "text/plain": [
       "<AxesSubplot:title={'center':'The median value of houses bounded by the Charles river[1] or not[0]'}, xlabel='CHAS', ylabel='MEDV'>"
      ]
     },
     "execution_count": 2,
     "metadata": {},
     "output_type": "execute_result"
    },
    {
     "data": {
      "image/png": "[encoded data removed]",
      "text/plain": [
       "<Figure size 1000x400 with 1 Axes>"
      ]
     },
     "metadata": {},
     "output_type": "display_data"
    }
   ],
   "source": [
    "import seaborn as sns\n",
    "import matplotlib.pyplot as plt\n",
    "sns.set(style=\"whitegrid\")\n",
    "plt.figure(figsize=(10,4))\n",
    "plt.title(\"The median value of houses bounded by the Charles river[1] or not[0]\")\n",
    "sns.barplot(x='CHAS',y='MEDV',data=boston_df)"
   ]
  },
  {
   "cell_type": "markdown",
   "id": "7acc1fff",
   "metadata": {
    "papermill": {
     "duration": 0.007005,
     "end_time": "2023-03-18T23:53:34.908089",
     "exception": false,
     "start_time": "2023-03-18T23:53:34.901084",
     "status": "completed"
    },
    "tags": []
   },
   "source": [
    "**Observation:** While it is visually noticeable that the median value (MEDV) of houses bounded by the Charles River is higher than that of those not bounded, we need to determine if this difference is statistically significant.Therefore, the question remains: Is this difference statistically significant?\n",
    "\n",
    "Since we're comparing two samples for the same variable, we need to combine both **Lavene** and **T-test** to answer this question."
   ]
  },
  {
   "cell_type": "markdown",
   "id": "e03d52cd",
   "metadata": {
    "papermill": {
     "duration": 0.007961,
     "end_time": "2023-03-18T23:53:34.923321",
     "exception": false,
     "start_time": "2023-03-18T23:53:34.915360",
     "status": "completed"
    },
    "tags": []
   },
   "source": [
    "### Applying T-test\n",
    "- H0: There is no difference in the median value of houses bounded by the Charles river\n",
    "- H1: There is a difference in the median value of houses bounded by the Charles river"
   ]
  },
  {
   "cell_type": "code",
   "execution_count": 3,
   "id": "93ee4114",
   "metadata": {
    "execution": {
     "iopub.execute_input": "2023-03-18T23:53:34.940013Z",
     "iopub.status.busy": "2023-03-18T23:53:34.939279Z",
     "iopub.status.idle": "2023-03-18T23:53:34.950968Z",
     "shell.execute_reply": "2023-03-18T23:53:34.949863Z"
    },
    "papermill": {
     "duration": 0.022875,
     "end_time": "2023-03-18T23:53:34.953284",
     "exception": false,
     "start_time": "2023-03-18T23:53:34.930409",
     "status": "completed"
    },
    "tags": []
   },
   "outputs": [
    {
     "data": {
      "text/plain": [
       "LeveneResult(statistic=8.75190489604598, pvalue=0.003238119367639829)"
      ]
     },
     "execution_count": 3,
     "metadata": {},
     "output_type": "execute_result"
    }
   ],
   "source": [
    "# Before applying the T-test, we're using the Lavene test to compare the variances of the two samples\n",
    "# H0*: There is no significant difference in the variances of the two samples\n",
    "# H1*: There is a significant difference in the variances of the two samples\n",
    "import scipy\n",
    "scipy.stats.levene(boston_df[boston_df['CHAS'] == 0]['MEDV'],\n",
    "                   boston_df[boston_df['CHAS'] == 1]['MEDV'], center='mean')"
   ]
  },
  {
   "cell_type": "markdown",
   "id": "f2668e00",
   "metadata": {
    "papermill": {
     "duration": 0.00731,
     "end_time": "2023-03-18T23:53:34.967981",
     "exception": false,
     "start_time": "2023-03-18T23:53:34.960671",
     "status": "completed"
    },
    "tags": []
   },
   "source": [
    "Since the obtained P-value is less than 0.05, we **reject** the null hypothesis (H0*), and we conclude that there is a statistical difference in the variance between the two samples."
   ]
  },
  {
   "cell_type": "code",
   "execution_count": 4,
   "id": "7cfd8a2c",
   "metadata": {
    "execution": {
     "iopub.execute_input": "2023-03-18T23:53:34.985411Z",
     "iopub.status.busy": "2023-03-18T23:53:34.984685Z",
     "iopub.status.idle": "2023-03-18T23:53:34.995128Z",
     "shell.execute_reply": "2023-03-18T23:53:34.994087Z"
    },
    "papermill": {
     "duration": 0.021843,
     "end_time": "2023-03-18T23:53:34.997277",
     "exception": false,
     "start_time": "2023-03-18T23:53:34.975434",
     "status": "completed"
    },
    "tags": []
   },
   "outputs": [
    {
     "data": {
      "text/plain": [
       "Ttest_indResult(statistic=-3.996437466090509, pvalue=7.390623170519905e-05)"
      ]
     },
     "execution_count": 4,
     "metadata": {},
     "output_type": "execute_result"
    }
   ],
   "source": [
    "# Applying the T-test on the two initial hypothtesis\n",
    "# Setting the equal_var parameter to True since we proved the variance inequality  \n",
    "scipy.stats.ttest_ind(boston_df[boston_df['CHAS'] == 0]['MEDV'],\n",
    "                   boston_df[boston_df['CHAS'] == 1]['MEDV'], equal_var = True)\n",
    "#obtained p-value= 7.390623170519905 * 10^^-5"
   ]
  },
  {
   "cell_type": "markdown",
   "id": "6aa7abb3",
   "metadata": {
    "papermill": {
     "duration": 0.007322,
     "end_time": "2023-03-18T23:53:35.012379",
     "exception": false,
     "start_time": "2023-03-18T23:53:35.005057",
     "status": "completed"
    },
    "tags": []
   },
   "source": [
    "**Conclusion** : Since the p-value is less than alpha value 0.05, we **reject** the null hypothesis (H0) as there is enough proof that there is a statistical difference in the median value of houses bounded by the Charles river or not."
   ]
  },
  {
   "cell_type": "markdown",
   "id": "36d5db4b",
   "metadata": {
    "papermill": {
     "duration": 0.00707,
     "end_time": "2023-03-18T23:53:35.026980",
     "exception": false,
     "start_time": "2023-03-18T23:53:35.019910",
     "status": "completed"
    },
    "tags": []
   },
   "source": [
    "## **3.2.**     Is there a difference in median values of houses of each proportion of owner-occupied units built before 1940?<a class=\"anchor\" id=\"3.2\"></a>\n",
    "\n",
    "Before conducting the test, we are providing a **boxplot** for the MEDV variable vs the AGE variable.\n"
   ]
  },
  {
   "cell_type": "code",
   "execution_count": 5,
   "id": "05b768af",
   "metadata": {
    "execution": {
     "iopub.execute_input": "2023-03-18T23:53:35.045361Z",
     "iopub.status.busy": "2023-03-18T23:53:35.044614Z",
     "iopub.status.idle": "2023-03-18T23:53:35.071767Z",
     "shell.execute_reply": "2023-03-18T23:53:35.070589Z"
    },
    "papermill": {
     "duration": 0.038951,
     "end_time": "2023-03-18T23:53:35.074148",
     "exception": false,
     "start_time": "2023-03-18T23:53:35.035197",
     "status": "completed"
    },
    "tags": []
   },
   "outputs": [
    {
     "data": {
      "text/html": [
       "<div>\n",
       "<style scoped>\n",
       "    .dataframe tbody tr th:only-of-type {\n",
       "        vertical-align: middle;\n",
       "    }\n",
       "\n",
       "    .dataframe tbody tr th {\n",
       "        vertical-align: top;\n",
       "    }\n",
       "\n",
       "    .dataframe thead th {\n",
       "        text-align: right;\n",
       "    }\n",
       "</style>\n",
       "<table border=\"1\" class=\"dataframe\">\n",
       "  <thead>\n",
       "    <tr style=\"text-align: right;\">\n",
       "      <th></th>\n",
       "      <th>Unnamed: 0</th>\n",
       "      <th>CRIM</th>\n",
       "      <th>ZN</th>\n",
       "      <th>INDUS</th>\n",
       "      <th>CHAS</th>\n",
       "      <th>NOX</th>\n",
       "      <th>RM</th>\n",
       "      <th>AGE</th>\n",
       "      <th>DIS</th>\n",
       "      <th>RAD</th>\n",
       "      <th>TAX</th>\n",
       "      <th>PTRATIO</th>\n",
       "      <th>LSTAT</th>\n",
       "      <th>MEDV</th>\n",
       "      <th>age</th>\n",
       "    </tr>\n",
       "  </thead>\n",
       "  <tbody>\n",
       "    <tr>\n",
       "      <th>0</th>\n",
       "      <td>0</td>\n",
       "      <td>0.00632</td>\n",
       "      <td>18.0</td>\n",
       "      <td>2.31</td>\n",
       "      <td>0.0</td>\n",
       "      <td>0.538</td>\n",
       "      <td>6.575</td>\n",
       "      <td>65.2</td>\n",
       "      <td>4.0900</td>\n",
       "      <td>1.0</td>\n",
       "      <td>296.0</td>\n",
       "      <td>15.3</td>\n",
       "      <td>4.98</td>\n",
       "      <td>24.0</td>\n",
       "      <td>between 35 and 70</td>\n",
       "    </tr>\n",
       "    <tr>\n",
       "      <th>1</th>\n",
       "      <td>1</td>\n",
       "      <td>0.02731</td>\n",
       "      <td>0.0</td>\n",
       "      <td>7.07</td>\n",
       "      <td>0.0</td>\n",
       "      <td>0.469</td>\n",
       "      <td>6.421</td>\n",
       "      <td>78.9</td>\n",
       "      <td>4.9671</td>\n",
       "      <td>2.0</td>\n",
       "      <td>242.0</td>\n",
       "      <td>17.8</td>\n",
       "      <td>9.14</td>\n",
       "      <td>21.6</td>\n",
       "      <td>70 and older</td>\n",
       "    </tr>\n",
       "    <tr>\n",
       "      <th>2</th>\n",
       "      <td>2</td>\n",
       "      <td>0.02729</td>\n",
       "      <td>0.0</td>\n",
       "      <td>7.07</td>\n",
       "      <td>0.0</td>\n",
       "      <td>0.469</td>\n",
       "      <td>7.185</td>\n",
       "      <td>61.1</td>\n",
       "      <td>4.9671</td>\n",
       "      <td>2.0</td>\n",
       "      <td>242.0</td>\n",
       "      <td>17.8</td>\n",
       "      <td>4.03</td>\n",
       "      <td>34.7</td>\n",
       "      <td>between 35 and 70</td>\n",
       "    </tr>\n",
       "    <tr>\n",
       "      <th>3</th>\n",
       "      <td>3</td>\n",
       "      <td>0.03237</td>\n",
       "      <td>0.0</td>\n",
       "      <td>2.18</td>\n",
       "      <td>0.0</td>\n",
       "      <td>0.458</td>\n",
       "      <td>6.998</td>\n",
       "      <td>45.8</td>\n",
       "      <td>6.0622</td>\n",
       "      <td>3.0</td>\n",
       "      <td>222.0</td>\n",
       "      <td>18.7</td>\n",
       "      <td>2.94</td>\n",
       "      <td>33.4</td>\n",
       "      <td>between 35 and 70</td>\n",
       "    </tr>\n",
       "    <tr>\n",
       "      <th>4</th>\n",
       "      <td>4</td>\n",
       "      <td>0.06905</td>\n",
       "      <td>0.0</td>\n",
       "      <td>2.18</td>\n",
       "      <td>0.0</td>\n",
       "      <td>0.458</td>\n",
       "      <td>7.147</td>\n",
       "      <td>54.2</td>\n",
       "      <td>6.0622</td>\n",
       "      <td>3.0</td>\n",
       "      <td>222.0</td>\n",
       "      <td>18.7</td>\n",
       "      <td>5.33</td>\n",
       "      <td>36.2</td>\n",
       "      <td>between 35 and 70</td>\n",
       "    </tr>\n",
       "  </tbody>\n",
       "</table>\n",
       "</div>"
      ],
      "text/plain": [
       "   Unnamed: 0     CRIM    ZN  INDUS  CHAS    NOX     RM   AGE     DIS  RAD  \\\n",
       "0           0  0.00632  18.0   2.31   0.0  0.538  6.575  65.2  4.0900  1.0   \n",
       "1           1  0.02731   0.0   7.07   0.0  0.469  6.421  78.9  4.9671  2.0   \n",
       "2           2  0.02729   0.0   7.07   0.0  0.469  7.185  61.1  4.9671  2.0   \n",
       "3           3  0.03237   0.0   2.18   0.0  0.458  6.998  45.8  6.0622  3.0   \n",
       "4           4  0.06905   0.0   2.18   0.0  0.458  7.147  54.2  6.0622  3.0   \n",
       "\n",
       "     TAX  PTRATIO  LSTAT  MEDV                age  \n",
       "0  296.0     15.3   4.98  24.0  between 35 and 70  \n",
       "1  242.0     17.8   9.14  21.6       70 and older  \n",
       "2  242.0     17.8   4.03  34.7  between 35 and 70  \n",
       "3  222.0     18.7   2.94  33.4  between 35 and 70  \n",
       "4  222.0     18.7   5.33  36.2  between 35 and 70  "
      ]
     },
     "execution_count": 5,
     "metadata": {},
     "output_type": "execute_result"
    }
   ],
   "source": [
    "#Discretizing the age variable into three groups of 35 years and younger, between 35 and 70 years and 70 years and older)\n",
    "boston_df.loc[(boston_df['AGE']<=35),'age']='35 and younger'\n",
    "boston_df.loc[(boston_df['AGE']>35)&(boston_df['AGE']<70),'age']='between 35 and 70'\n",
    "boston_df.loc[boston_df['AGE']>=70,'age']='70 and older'\n",
    "boston_df.head()"
   ]
  },
  {
   "cell_type": "code",
   "execution_count": 6,
   "id": "fe0fa786",
   "metadata": {
    "execution": {
     "iopub.execute_input": "2023-03-18T23:53:35.091992Z",
     "iopub.status.busy": "2023-03-18T23:53:35.091182Z",
     "iopub.status.idle": "2023-03-18T23:53:35.399729Z",
     "shell.execute_reply": "2023-03-18T23:53:35.398547Z"
    },
    "papermill": {
     "duration": 0.32026,
     "end_time": "2023-03-18T23:53:35.402252",
     "exception": false,
     "start_time": "2023-03-18T23:53:35.081992",
     "status": "completed"
    },
    "tags": []
   },
   "outputs": [
    {
     "data": {
      "image/png": "[encoded data removed]",
      "text/plain": [
       "<Figure size 1600x600 with 1 Axes>"
      ]
     },
     "metadata": {},
     "output_type": "display_data"
    }
   ],
   "source": [
    "#plotting\n",
    "plt.figure(figsize=(16,6))\n",
    "ax = sns.boxplot(x='MEDV', y='age', data=boston_df)\n",
    "plt.title(\"Median Value of Owner-Occupied Homes by AGE Group\")\n",
    "plt.show()"
   ]
  },
  {
   "cell_type": "markdown",
   "id": "1713d84c",
   "metadata": {
    "papermill": {
     "duration": 0.008081,
     "end_time": "2023-03-18T23:53:35.418679",
     "exception": false,
     "start_time": "2023-03-18T23:53:35.410598",
     "status": "completed"
    },
    "tags": []
   },
   "source": [
    "**Observation:** We can observe that the MEDV values of the three samples are significantly different from each other. However, to rule out the possibility that these differences are due to chance, we will perform an **ANOVA** test. This statistical test is designed to compare the means of multiple samples (more than two) for a single variable, allowing us to determine whether the observed differences are statistically significant."
   ]
  },
  {
   "cell_type": "markdown",
   "id": "15163940",
   "metadata": {
    "papermill": {
     "duration": 0.008053,
     "end_time": "2023-03-18T23:53:35.435189",
     "exception": false,
     "start_time": "2023-03-18T23:53:35.427136",
     "status": "completed"
    },
    "tags": []
   },
   "source": [
    "**Applying the ANOVA test :**\n",
    "\n",
    "H0: there is no difference in median values of houses of each proportion of owner-occupied units built before 1940\n",
    "\n",
    "H1: there is a significant difference in median values of houses of each proportion of owner-occupied units built before 1940\n",
    "\n"
   ]
  },
  {
   "cell_type": "code",
   "execution_count": 7,
   "id": "a9e265c2",
   "metadata": {
    "execution": {
     "iopub.execute_input": "2023-03-18T23:53:35.454904Z",
     "iopub.status.busy": "2023-03-18T23:53:35.453625Z",
     "iopub.status.idle": "2023-03-18T23:53:35.466101Z",
     "shell.execute_reply": "2023-03-18T23:53:35.464690Z"
    },
    "papermill": {
     "duration": 0.025223,
     "end_time": "2023-03-18T23:53:35.468810",
     "exception": false,
     "start_time": "2023-03-18T23:53:35.443587",
     "status": "completed"
    },
    "tags": []
   },
   "outputs": [
    {
     "name": "stdout",
     "output_type": "stream",
     "text": [
      "The f_statistic value obtained from the ANOVA test :36.40764999196599, and the P-value obtained is :1.7105011022702984e-15\n"
     ]
    }
   ],
   "source": [
    "a35_younger=boston_df[boston_df['age']=='35 and younger']['MEDV']\n",
    "between_35_70=boston_df[boston_df['age']=='between 35 and 70']['MEDV']\n",
    "a70_older=boston_df[boston_df['age']=='70 and older']['MEDV']\n",
    "f_statistic, p_value = scipy.stats.f_oneway(a35_younger, between_35_70, a70_older)\n",
    "print('The f_statistic value obtained from the ANOVA test :'+str(f_statistic)+', and the P-value obtained is :'+str(p_value) )\n"
   ]
  },
  {
   "cell_type": "markdown",
   "id": "df75a95c",
   "metadata": {
    "papermill": {
     "duration": 0.008578,
     "end_time": "2023-03-18T23:53:35.486139",
     "exception": false,
     "start_time": "2023-03-18T23:53:35.477561",
     "status": "completed"
    },
    "tags": []
   },
   "source": [
    "**CONCLUSION:** If we obtain a p-value less than 0.05 in the ANOVA test, it would indicate that at least one of the samples has a significantly different mean value for the MEDV variable, as compared to the others. This result would lead us to reject the null hypothesis and accept the alternative hypothesis, which suggests that there are differences in the mean values of the MEDV variable across the samples."
   ]
  },
  {
   "cell_type": "markdown",
   "id": "3b3c1612",
   "metadata": {
    "papermill": {
     "duration": 0.008231,
     "end_time": "2023-03-18T23:53:35.503307",
     "exception": false,
     "start_time": "2023-03-18T23:53:35.495076",
     "status": "completed"
    },
    "tags": []
   },
   "source": [
    "## **3.3.** Can we conclude that there is no relationship between Nitric oxide concentrations and the proportion of non-retail business acres per town? <a class=\"anchor\" id=\"3.3\"></a> \n",
    "Before conducting the test, we are providing a **regression plot** for the NOX variable vs the INDUS variable."
   ]
  },
  {
   "cell_type": "code",
   "execution_count": 8,
   "id": "d347da80",
   "metadata": {
    "execution": {
     "iopub.execute_input": "2023-03-18T23:53:35.522899Z",
     "iopub.status.busy": "2023-03-18T23:53:35.522471Z",
     "iopub.status.idle": "2023-03-18T23:53:35.931760Z",
     "shell.execute_reply": "2023-03-18T23:53:35.930528Z"
    },
    "papermill": {
     "duration": 0.423191,
     "end_time": "2023-03-18T23:53:35.935118",
     "exception": false,
     "start_time": "2023-03-18T23:53:35.511927",
     "status": "completed"
    },
    "tags": []
   },
   "outputs": [
    {
     "data": {
      "image/png": "[encoded data removed]",
      "text/plain": [
       "<Figure size 800x400 with 1 Axes>"
      ]
     },
     "metadata": {},
     "output_type": "display_data"
    }
   ],
   "source": [
    "import scipy\n",
    "plt.figure(figsize=(8,4))\n",
    "sns.regplot(x='INDUS',y='NOX',data=boston_df)\n",
    "plt.title(\"Correlation Between Nitric Oxide Concentration and Proportion of Non-Retail Business Acres per Town\")\n",
    "plt.show()"
   ]
  },
  {
   "cell_type": "markdown",
   "id": "570b9315",
   "metadata": {
    "papermill": {
     "duration": 0.009238,
     "end_time": "2023-03-18T23:53:35.955429",
     "exception": false,
     "start_time": "2023-03-18T23:53:35.946191",
     "status": "completed"
    },
    "tags": []
   },
   "source": [
    "**Observation:** Although there appears to be a positive correlation between the two variables, we can further investigate this relationship by conducting a **Pearson** correlation test, which also gives us a **correlation coefficient**."
   ]
  },
  {
   "cell_type": "markdown",
   "id": "805df23c",
   "metadata": {
    "papermill": {
     "duration": 0.009533,
     "end_time": "2023-03-18T23:53:35.974751",
     "exception": false,
     "start_time": "2023-03-18T23:53:35.965218",
     "status": "completed"
    },
    "tags": []
   },
   "source": [
    "### **Applying correlation test**\n",
    "\n",
    "H0: There is no relationship between Nitric oxide concentrations and the proportion of non-retail business acres per town\n",
    "\n",
    "H1: There a relationship between Nitric oxide concentrations and the proportion of non-retail business acres per town"
   ]
  },
  {
   "cell_type": "code",
   "execution_count": 9,
   "id": "8bdb3995",
   "metadata": {
    "execution": {
     "iopub.execute_input": "2023-03-18T23:53:35.995732Z",
     "iopub.status.busy": "2023-03-18T23:53:35.995263Z",
     "iopub.status.idle": "2023-03-18T23:53:36.002978Z",
     "shell.execute_reply": "2023-03-18T23:53:36.001647Z"
    },
    "papermill": {
     "duration": 0.021016,
     "end_time": "2023-03-18T23:53:36.005496",
     "exception": false,
     "start_time": "2023-03-18T23:53:35.984480",
     "status": "completed"
    },
    "tags": []
   },
   "outputs": [
    {
     "name": "stdout",
     "output_type": "stream",
     "text": [
      "The p-value obtained from the Pearson test is 7.913361061238693e-98, with a correlation coefficient of 0.7636514469209151\n"
     ]
    }
   ],
   "source": [
    "#In this case we are doing a correlation test between the two variables NOX and INDUS\n",
    "#Since the dependant variable is continious, we are going to perform a Pearson test that has a p-value as one of its outputs\n",
    "a,p=scipy.stats.pearsonr(boston_df['NOX'], boston_df['INDUS'])\n",
    "print(\"The p-value obtained from the Pearson test is \"+str(p)+\", with a correlation coefficient of \"+str(a))"
   ]
  },
  {
   "cell_type": "markdown",
   "id": "2c4e00c4",
   "metadata": {
    "papermill": {
     "duration": 0.009272,
     "end_time": "2023-03-18T23:53:36.024382",
     "exception": false,
     "start_time": "2023-03-18T23:53:36.015110",
     "status": "completed"
    },
    "tags": []
   },
   "source": [
    "**CONCLUSION:** The null hyptohesis is rejected since there are enough proof that the Nitric oxide concentration and the proportion of non-retail business acres are positively correlated "
   ]
  },
  {
   "cell_type": "markdown",
   "id": "547399ce",
   "metadata": {
    "papermill": {
     "duration": 0.009128,
     "end_time": "2023-03-18T23:53:36.043108",
     "exception": false,
     "start_time": "2023-03-18T23:53:36.033980",
     "status": "completed"
    },
    "tags": []
   },
   "source": [
    "## **4. Regression in place of correlation test (Q4):**   What is the impact of an additional weighted distance to the five Boston employment centres on the median value of owner-occupied homes?  <a class=\"anchor\" id=\"4\"></a>"
   ]
  },
  {
   "cell_type": "code",
   "execution_count": 10,
   "id": "c03ad04b",
   "metadata": {
    "execution": {
     "iopub.execute_input": "2023-03-18T23:53:36.064642Z",
     "iopub.status.busy": "2023-03-18T23:53:36.063850Z",
     "iopub.status.idle": "2023-03-18T23:53:37.519549Z",
     "shell.execute_reply": "2023-03-18T23:53:37.518220Z"
    },
    "papermill": {
     "duration": 1.469357,
     "end_time": "2023-03-18T23:53:37.522039",
     "exception": false,
     "start_time": "2023-03-18T23:53:36.052682",
     "status": "completed"
    },
    "tags": []
   },
   "outputs": [
    {
     "data": {
      "text/html": [
       "<table class=\"simpletable\">\n",
       "<caption>OLS Regression Results</caption>\n",
       "<tr>\n",
       "  <th>Dep. Variable:</th>          <td>MEDV</td>       <th>  R-squared:         </th> <td>   0.062</td>\n",
       "</tr>\n",
       "<tr>\n",
       "  <th>Model:</th>                   <td>OLS</td>       <th>  Adj. R-squared:    </th> <td>   0.061</td>\n",
       "</tr>\n",
       "<tr>\n",
       "  <th>Method:</th>             <td>Least Squares</td>  <th>  F-statistic:       </th> <td>   33.58</td>\n",
       "</tr>\n",
       "<tr>\n",
       "  <th>Date:</th>             <td>Sat, 18 Mar 2023</td> <th>  Prob (F-statistic):</th> <td>1.21e-08</td>\n",
       "</tr>\n",
       "<tr>\n",
       "  <th>Time:</th>                 <td>23:53:37</td>     <th>  Log-Likelihood:    </th> <td> -1823.9</td>\n",
       "</tr>\n",
       "<tr>\n",
       "  <th>No. Observations:</th>      <td>   506</td>      <th>  AIC:               </th> <td>   3652.</td>\n",
       "</tr>\n",
       "<tr>\n",
       "  <th>Df Residuals:</th>          <td>   504</td>      <th>  BIC:               </th> <td>   3660.</td>\n",
       "</tr>\n",
       "<tr>\n",
       "  <th>Df Model:</th>              <td>     1</td>      <th>                     </th>     <td> </td>   \n",
       "</tr>\n",
       "<tr>\n",
       "  <th>Covariance Type:</th>      <td>nonrobust</td>    <th>                     </th>     <td> </td>   \n",
       "</tr>\n",
       "</table>\n",
       "<table class=\"simpletable\">\n",
       "<tr>\n",
       "    <td></td>       <th>coef</th>     <th>std err</th>      <th>t</th>      <th>P>|t|</th>  <th>[0.025</th>    <th>0.975]</th>  \n",
       "</tr>\n",
       "<tr>\n",
       "  <th>const</th> <td>   18.3901</td> <td>    0.817</td> <td>   22.499</td> <td> 0.000</td> <td>   16.784</td> <td>   19.996</td>\n",
       "</tr>\n",
       "<tr>\n",
       "  <th>DIS</th>   <td>    1.0916</td> <td>    0.188</td> <td>    5.795</td> <td> 0.000</td> <td>    0.722</td> <td>    1.462</td>\n",
       "</tr>\n",
       "</table>\n",
       "<table class=\"simpletable\">\n",
       "<tr>\n",
       "  <th>Omnibus:</th>       <td>139.779</td> <th>  Durbin-Watson:     </th> <td>   0.570</td>\n",
       "</tr>\n",
       "<tr>\n",
       "  <th>Prob(Omnibus):</th> <td> 0.000</td>  <th>  Jarque-Bera (JB):  </th> <td> 305.104</td>\n",
       "</tr>\n",
       "<tr>\n",
       "  <th>Skew:</th>          <td> 1.466</td>  <th>  Prob(JB):          </th> <td>5.59e-67</td>\n",
       "</tr>\n",
       "<tr>\n",
       "  <th>Kurtosis:</th>      <td> 5.424</td>  <th>  Cond. No.          </th> <td>    9.32</td>\n",
       "</tr>\n",
       "</table><br/><br/>Notes:<br/>[1] Standard Errors assume that the covariance matrix of the errors is correctly specified."
      ],
      "text/plain": [
       "<class 'statsmodels.iolib.summary.Summary'>\n",
       "\"\"\"\n",
       "                            OLS Regression Results                            \n",
       "==============================================================================\n",
       "Dep. Variable:                   MEDV   R-squared:                       0.062\n",
       "Model:                            OLS   Adj. R-squared:                  0.061\n",
       "Method:                 Least Squares   F-statistic:                     33.58\n",
       "Date:                Sat, 18 Mar 2023   Prob (F-statistic):           1.21e-08\n",
       "Time:                        23:53:37   Log-Likelihood:                -1823.9\n",
       "No. Observations:                 506   AIC:                             3652.\n",
       "Df Residuals:                     504   BIC:                             3660.\n",
       "Df Model:                           1                                         \n",
       "Covariance Type:            nonrobust                                         \n",
       "==============================================================================\n",
       "                 coef    std err          t      P>|t|      [0.025      0.975]\n",
       "------------------------------------------------------------------------------\n",
       "const         18.3901      0.817     22.499      0.000      16.784      19.996\n",
       "DIS            1.0916      0.188      5.795      0.000       0.722       1.462\n",
       "==============================================================================\n",
       "Omnibus:                      139.779   Durbin-Watson:                   0.570\n",
       "Prob(Omnibus):                  0.000   Jarque-Bera (JB):              305.104\n",
       "Skew:                           1.466   Prob(JB):                     5.59e-67\n",
       "Kurtosis:                       5.424   Cond. No.                         9.32\n",
       "==============================================================================\n",
       "\n",
       "Notes:\n",
       "[1] Standard Errors assume that the covariance matrix of the errors is correctly specified.\n",
       "\"\"\""
      ]
     },
     "execution_count": 10,
     "metadata": {},
     "output_type": "execute_result"
    }
   ],
   "source": [
    "# We can answer this question using a regression model\n",
    "import statsmodels.api as sm\n",
    "import math\n",
    "#the independant variable\n",
    "X = boston_df['DIS']\n",
    "#add an intercept (beta_0) to our model\n",
    "X = sm.add_constant(X)\n",
    "# Dependant variable\n",
    "Y=boston_df['MEDV']\n",
    "\n",
    "model = sm.OLS(Y, X).fit()\n",
    "predictions = model.predict(X)\n",
    "model.summary()\n"
   ]
  },
  {
   "cell_type": "code",
   "execution_count": 11,
   "id": "9c9c2e3f",
   "metadata": {
    "execution": {
     "iopub.execute_input": "2023-03-18T23:53:37.545634Z",
     "iopub.status.busy": "2023-03-18T23:53:37.544732Z",
     "iopub.status.idle": "2023-03-18T23:53:37.551804Z",
     "shell.execute_reply": "2023-03-18T23:53:37.550381Z"
    },
    "papermill": {
     "duration": 0.023378,
     "end_time": "2023-03-18T23:53:37.554981",
     "exception": false,
     "start_time": "2023-03-18T23:53:37.531603",
     "status": "completed"
    },
    "tags": []
   },
   "outputs": [
    {
     "name": "stdout",
     "output_type": "stream",
     "text": [
      "The correlation coef is: 0.24899799195977465\n"
     ]
    }
   ],
   "source": [
    "# R-squared is the correlation_coeffecient**2\n",
    "correlation_coef=math.sqrt(0.062)\n",
    "print(\"The correlation coef is: \"+str(correlation_coef))\n",
    "# Since sqrt(0.062)"
   ]
  },
  {
   "cell_type": "markdown",
   "id": "c74ee4c3",
   "metadata": {
    "papermill": {
     "duration": 0.00939,
     "end_time": "2023-03-18T23:53:37.574738",
     "exception": false,
     "start_time": "2023-03-18T23:53:37.565348",
     "status": "completed"
    },
    "tags": []
   },
   "source": [
    "**CONCLUSION:** We can see that the coefficient for the additional weighted distance to the five Boston employment centers (DIS) is 1.0916, indicating that for each unit increase in the additional weighted distance, the median value of owner-occupied homes increases by 1,091.6."
   ]
  }
 ],
 "metadata": {
  "kernelspec": {
   "display_name": "Python 3",
   "language": "python",
   "name": "python3"
  },
  "language_info": {
   "codemirror_mode": {
    "name": "ipython",
    "version": 3
   },
   "file_extension": ".py",
   "mimetype": "text/x-python",
   "name": "python",
   "nbconvert_exporter": "python",
   "pygments_lexer": "ipython3",
   "version": "3.7.12"
  },
  "papermill": {
   "default_parameters": {},
   "duration": 15.819052,
   "end_time": "2023-03-18T23:53:38.407813",
   "environment_variables": {},
   "exception": null,
   "input_path": "__notebook__.ipynb",
   "output_path": "__notebook__.ipynb",
   "parameters": {},
   "start_time": "2023-03-18T23:53:22.588761",
   "version": "2.4.0"
  }
 },
 "nbformat": 4,
 "nbformat_minor": 5
}
